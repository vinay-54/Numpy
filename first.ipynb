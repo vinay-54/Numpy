{
 "cells": [
  {
   "cell_type": "code",
   "execution_count": 3,
   "id": "e2ad7e87",
   "metadata": {},
   "outputs": [],
   "source": [
    "#creating a numpy array\n",
    "import numpy as np\n",
    "import matplotlib.pyplot as plt"
   ]
  },
  {
   "cell_type": "code",
   "execution_count": 4,
   "id": "5fcf2279",
   "metadata": {},
   "outputs": [
    {
     "data": {
      "text/plain": [
       "array([ 1,  2,  4,  5,  6,  7,  8,  9, 10])"
      ]
     },
     "execution_count": 4,
     "metadata": {},
     "output_type": "execute_result"
    }
   ],
   "source": [
    "arr1=np.array([1,2,4,5,6,7,8,9,10])\n",
    "arr1"
   ]
  },
  {
   "cell_type": "code",
   "execution_count": 5,
   "id": "6a260992",
   "metadata": {},
   "outputs": [
    {
     "data": {
      "text/plain": [
       "numpy.ndarray"
      ]
     },
     "execution_count": 5,
     "metadata": {},
     "output_type": "execute_result"
    }
   ],
   "source": [
    "type(arr1)  # This will show the type of the numpy array"
   ]
  },
  {
   "cell_type": "code",
   "execution_count": 6,
   "id": "aeb6679d",
   "metadata": {},
   "outputs": [
    {
     "data": {
      "text/plain": [
       "array([[1, 2, 3],\n",
       "       [4, 5, 6]])"
      ]
     },
     "execution_count": 6,
     "metadata": {},
     "output_type": "execute_result"
    }
   ],
   "source": [
    "array2=np.array([[1,2,3],[4,5,6]]) # Creating a 2D numpy array\n",
    "array2  # This will show the second array created"
   ]
  },
  {
   "cell_type": "code",
   "execution_count": 7,
   "id": "e05993f4",
   "metadata": {},
   "outputs": [
    {
     "name": "stdout",
     "output_type": "stream",
     "text": [
      "[[0. 0. 0.]\n",
      " [0. 0. 0.]]\n",
      "[[1. 1. 1.]\n",
      " [1. 1. 1.]]\n"
     ]
    }
   ],
   "source": [
    "arr3=np.zeros((2,3)) # Creating a 2D numpy array filled with zeros\n",
    "print(arr3)\n",
    "\n",
    "arr4=np.ones((2,3)) # Creating a 2D numpy array filled with ones\n",
    "print(arr4)"
   ]
  },
  {
   "cell_type": "code",
   "execution_count": 8,
   "id": "d7db5645",
   "metadata": {},
   "outputs": [
    {
     "name": "stdout",
     "output_type": "stream",
     "text": [
      "[[1. 0. 0. 0. 0.]\n",
      " [0. 1. 0. 0. 0.]\n",
      " [0. 0. 1. 0. 0.]\n",
      " [0. 0. 0. 1. 0.]\n",
      " [0. 0. 0. 0. 1.]]\n",
      "[1 2 3 4 5 6 7 8 9]\n",
      "[1 3 5 7 9]\n"
     ]
    }
   ],
   "source": [
    "arr5=np.identity(5) # Creating a 2D numpy array with an identity matrix\n",
    "print(arr5)\n",
    "\n",
    "arr6=np.arange(1,10) # Creating a 1D numpy array with a range of values\n",
    "print(arr6)\n",
    "\n",
    "arr7=np.arange(1,10,2) # Creating a 1D numpy array with a range of values\n",
    "print(arr7)"
   ]
  },
  {
   "cell_type": "code",
   "execution_count": 9,
   "id": "6bbfefce",
   "metadata": {},
   "outputs": [
    {
     "name": "stdout",
     "output_type": "stream",
     "text": [
      "[10.         11.11111111 12.22222222 13.33333333 14.44444444 15.55555556\n",
      " 16.66666667 17.77777778 18.88888889 20.        ]\n"
     ]
    }
   ],
   "source": [
    "arr8=np.linspace(10,20,10) # Creating a 1D numpy array with evenly spaced values\n",
    "print(arr8)"
   ]
  },
  {
   "cell_type": "code",
   "execution_count": 10,
   "id": "189305b0",
   "metadata": {},
   "outputs": [
    {
     "name": "stdout",
     "output_type": "stream",
     "text": [
      "[1 3 5 7 9]\n"
     ]
    }
   ],
   "source": [
    "arr9=arr7.copy() # Creating a copy of the 1D numpy array\n",
    "print(arr9)"
   ]
  },
  {
   "cell_type": "code",
   "execution_count": 11,
   "id": "711d1572",
   "metadata": {},
   "outputs": [
    {
     "data": {
      "text/plain": [
       "array([ 1,  2,  4,  5,  6,  7,  8,  9, 10])"
      ]
     },
     "execution_count": 11,
     "metadata": {},
     "output_type": "execute_result"
    }
   ],
   "source": [
    "arr1"
   ]
  },
  {
   "cell_type": "code",
   "execution_count": 12,
   "id": "32a62f82",
   "metadata": {},
   "outputs": [
    {
     "data": {
      "text/plain": [
       "(9,)"
      ]
     },
     "execution_count": 12,
     "metadata": {},
     "output_type": "execute_result"
    }
   ],
   "source": [
    "arr1.shape"
   ]
  },
  {
   "cell_type": "code",
   "execution_count": 13,
   "id": "be119ade",
   "metadata": {},
   "outputs": [
    {
     "name": "stdout",
     "output_type": "stream",
     "text": [
      "[[[1 2]\n",
      "  [3 4]]\n",
      "\n",
      " [[5 6]\n",
      "  [7 8]]]\n"
     ]
    },
    {
     "data": {
      "text/plain": [
       "(2, 2, 2)"
      ]
     },
     "execution_count": 13,
     "metadata": {},
     "output_type": "execute_result"
    }
   ],
   "source": [
    "np_array = np.array([[[1,2],[3,4]],[[5,6],[7,8]]])  # Creating a 3D numpy array\n",
    "print(np_array)\n",
    "np_array.shape # This will show the shape of the numpy array"
   ]
  },
  {
   "cell_type": "code",
   "execution_count": 14,
   "id": "296dfd0c",
   "metadata": {},
   "outputs": [
    {
     "data": {
      "text/plain": [
       "3"
      ]
     },
     "execution_count": 14,
     "metadata": {},
     "output_type": "execute_result"
    }
   ],
   "source": [
    "np_array.ndim  # This will show the number of dimensions of the numpy array"
   ]
  },
  {
   "cell_type": "code",
   "execution_count": 15,
   "id": "476a4400",
   "metadata": {},
   "outputs": [
    {
     "name": "stdout",
     "output_type": "stream",
     "text": [
      "9\n",
      "8\n",
      "8\n"
     ]
    }
   ],
   "source": [
    "print(arr1.size)  # This will show the size of the numpy array\n",
    "print(np_array.size)\n",
    "print(np_array.itemsize) # This will show the size of each item in the numpy array in bytes"
   ]
  },
  {
   "cell_type": "code",
   "execution_count": 16,
   "id": "9f7f3476",
   "metadata": {},
   "outputs": [
    {
     "name": "stdout",
     "output_type": "stream",
     "text": [
      "float64\n",
      "int64\n"
     ]
    }
   ],
   "source": [
    "print(arr8.dtype) # This will show the data type of the numpy array\n",
    "print(np_array.dtype) \n"
   ]
  },
  {
   "cell_type": "code",
   "execution_count": 17,
   "id": "254802f1",
   "metadata": {},
   "outputs": [
    {
     "name": "stdout",
     "output_type": "stream",
     "text": [
      "[[[1. 2.]\n",
      "  [3. 4.]]\n",
      "\n",
      " [[5. 6.]\n",
      "  [7. 8.]]]\n"
     ]
    }
   ],
   "source": [
    "datatype_convert=np_array.astype('float') # Converting the data type of the numpy array to float\n",
    "print(datatype_convert)  "
   ]
  },
  {
   "cell_type": "code",
   "execution_count": 18,
   "id": "e24d8bd6",
   "metadata": {},
   "outputs": [
    {
     "name": "stdout",
     "output_type": "stream",
     "text": [
      "range(0, 100)\n",
      "2800\n"
     ]
    }
   ],
   "source": [
    "import sys  \n",
    "lista=range(100) # Creating a range object\n",
    "print(lista)\n",
    "arr10=np.arange(100)   # Creating a numpy array from the range object\n",
    "print(sys.getsizeof(87)*len(lista))     # This will show the size of the list in bytes"
   ]
  },
  {
   "cell_type": "code",
   "execution_count": 19,
   "id": "fc6f7775",
   "metadata": {},
   "outputs": [
    {
     "name": "stdout",
     "output_type": "stream",
     "text": [
      "800\n"
     ]
    }
   ],
   "source": [
    "print(arr10.itemsize*arr10.size) # This will show the size of the numpy array in bytes"
   ]
  },
  {
   "cell_type": "code",
   "execution_count": 20,
   "id": "bb5a74f1",
   "metadata": {},
   "outputs": [
    {
     "name": "stdout",
     "output_type": "stream",
     "text": [
      "2.970602035522461\n"
     ]
    }
   ],
   "source": [
    "import time\n",
    "x=range(10000000)\n",
    "y=range(10000000,20000000) \n",
    "start_time = time.time() \n",
    "c=[(x,y) for x,y in zip(x,y)] # List comprehension\n",
    "print(time.time()-start_time)  \n"
   ]
  },
  {
   "cell_type": "code",
   "execution_count": 21,
   "id": "e4809db6",
   "metadata": {},
   "outputs": [
    {
     "name": "stdout",
     "output_type": "stream",
     "text": [
      "0.7466239929199219\n"
     ]
    }
   ],
   "source": [
    "a=np.arange(10000000)\n",
    "b=np.arange(10000000,20000000)\n",
    "start_time=time.time()\n",
    "c=a+b                        # Adding two numpy arrays\n",
    "print(time.time()-start_time) # This will show the time taken to add two numpy arrays\n"
   ]
  },
  {
   "cell_type": "code",
   "execution_count": 22,
   "id": "621b1e81",
   "metadata": {},
   "outputs": [
    {
     "name": "stdout",
     "output_type": "stream",
     "text": [
      "[ 0  1  2  3  4  5  6  7  8  9 10 11 12 13 14 15 16 17 18 19 20 21 22 23]\n",
      "[[ 0  1  2  3]\n",
      " [ 4  5  6  7]\n",
      " [ 8  9 10 11]\n",
      " [12 13 14 15]\n",
      " [16 17 18 19]\n",
      " [20 21 22 23]]\n"
     ]
    }
   ],
   "source": [
    "arr11=np.arange(0,24)\n",
    "reshape=arr11.reshape(6,4)  # Reshaping the numpy array to a 2D array with 6 rows and 12 columns\n",
    "print(arr11)\n",
    "print(reshape)"
   ]
  },
  {
   "cell_type": "code",
   "execution_count": 23,
   "id": "0478d1e7",
   "metadata": {},
   "outputs": [
    {
     "name": "stdout",
     "output_type": "stream",
     "text": [
      "[[ 8  9 10 11]\n",
      " [12 13 14 15]\n",
      " [16 17 18 19]]\n",
      "[ 8  9 10 11]\n",
      "[[ 0  1  2  3]\n",
      " [ 4  5  6  7]\n",
      " [ 8  9 10 11]]\n",
      "[[ 2  3]\n",
      " [ 6  7]\n",
      " [10 11]\n",
      " [14 15]\n",
      " [18 19]\n",
      " [22 23]]\n"
     ]
    }
   ],
   "source": [
    "#indexing and slicing\n",
    "print(reshape[2:5])  # This will show the elements from index 2 to 4\n",
    "print(reshape[2]) # This will show the element at index 2\n",
    "print(reshape[:3]) # This will show the elements from index 0 to 2\n",
    "print(reshape[:,2:4]) # This will show the elements from index 2 to 3 of all rows"
   ]
  },
  {
   "cell_type": "code",
   "execution_count": 24,
   "id": "72433f38",
   "metadata": {},
   "outputs": [
    {
     "name": "stdout",
     "output_type": "stream",
     "text": [
      "[[ 9 10 11]\n",
      " [13 14 15]]\n"
     ]
    }
   ],
   "source": [
    "print(reshape[2:4,1:5]) # This will show the elements from index 2 to 3 of rows and index 1 to 4 of columns"
   ]
  },
  {
   "cell_type": "code",
   "execution_count": 25,
   "id": "0c784911",
   "metadata": {},
   "outputs": [
    {
     "name": "stdout",
     "output_type": "stream",
     "text": [
      "[[ 0  1  2  3]\n",
      " [ 4  5  6  7]\n",
      " [ 8  9 10 11]\n",
      " [12 13 14 15]\n",
      " [16 17 18 19]\n",
      " [20 21 22 23]]\n",
      "[0 1 2 3]\n",
      "[4 5 6 7]\n",
      "[ 8  9 10 11]\n",
      "[12 13 14 15]\n",
      "[16 17 18 19]\n",
      "[20 21 22 23]\n"
     ]
    }
   ],
   "source": [
    "#iteration\n",
    "print(reshape)\n",
    "for i in reshape:\n",
    "    print(i)"
   ]
  },
  {
   "cell_type": "code",
   "execution_count": 26,
   "id": "4d32fd6e",
   "metadata": {},
   "outputs": [
    {
     "name": "stdout",
     "output_type": "stream",
     "text": [
      "0\n",
      "1\n",
      "2\n",
      "3\n",
      "4\n",
      "5\n",
      "6\n",
      "7\n",
      "8\n",
      "9\n",
      "10\n",
      "11\n",
      "12\n",
      "13\n",
      "14\n",
      "15\n",
      "16\n",
      "17\n",
      "18\n",
      "19\n",
      "20\n",
      "21\n",
      "22\n",
      "23\n"
     ]
    }
   ],
   "source": [
    "for i in np.nditer(reshape):\n",
    "    print(i) \n"
   ]
  },
  {
   "cell_type": "code",
   "execution_count": 27,
   "id": "22446b6a",
   "metadata": {},
   "outputs": [
    {
     "name": "stdout",
     "output_type": "stream",
     "text": [
      "[-6 -6 -6 -6 -6 -6]\n",
      "[ 7 16 27 40 55 72]\n",
      "[ 2  4  6  8 10 12]\n"
     ]
    }
   ],
   "source": [
    "array1=np.array([1,2,3,4,5,6])\n",
    "array2=np.array([7,8,9,10,11,12])\n",
    "print(array1-array2) # This will show the difference between the two arrays\n",
    "print(array1*array2) # This will show the product of the two arrays\n",
    "print(array1 * 2) # This will show the product of the array with a scalar value"
   ]
  },
  {
   "cell_type": "code",
   "execution_count": 28,
   "id": "c0c9dc7c",
   "metadata": {},
   "outputs": [
    {
     "name": "stdout",
     "output_type": "stream",
     "text": [
      "[ True  True  True  True  True  True]\n"
     ]
    }
   ],
   "source": [
    "print(array2>5) # This will show the boolean array where the condition is true"
   ]
  },
  {
   "cell_type": "code",
   "execution_count": 29,
   "id": "eafd6d5c",
   "metadata": {},
   "outputs": [
    {
     "name": "stdout",
     "output_type": "stream",
     "text": [
      "[[0 1 2]\n",
      " [3 4 5]]\n",
      "[[ 6  7]\n",
      " [ 8  9]\n",
      " [10 11]]\n"
     ]
    }
   ],
   "source": [
    "array3=np.arange(6).reshape(2,3)\n",
    "array4=np.arange(6,12).reshape(3,2)\n",
    "print(array3)\n",
    "print(array4)\n"
   ]
  },
  {
   "cell_type": "code",
   "execution_count": 30,
   "id": "8221dd6f",
   "metadata": {},
   "outputs": [
    {
     "data": {
      "text/plain": [
       "array([[ 28,  31],\n",
       "       [100, 112]])"
      ]
     },
     "execution_count": 30,
     "metadata": {},
     "output_type": "execute_result"
    }
   ],
   "source": [
    "array3.dot(array4) # This will show the dot product of the two arrays"
   ]
  },
  {
   "cell_type": "code",
   "execution_count": 31,
   "id": "0c67253d",
   "metadata": {},
   "outputs": [
    {
     "name": "stdout",
     "output_type": "stream",
     "text": [
      "11\n",
      "6\n",
      "[6 7]\n",
      "[10 11]\n"
     ]
    }
   ],
   "source": [
    "max_value=array4.max() \n",
    "min_value=array4.min()\n",
    "print(max_value) # This will show the maximum value in the array\n",
    "print(min_value) # This will show the minimum value in the array\n",
    "print(array4.min(axis=0)) # This will show the minimum value in column of the array\n",
    "print(array4.max(axis=0))  # This will show the maximum value in column of the array"
   ]
  },
  {
   "cell_type": "code",
   "execution_count": 32,
   "id": "a551c182",
   "metadata": {},
   "outputs": [
    {
     "name": "stdout",
     "output_type": "stream",
     "text": [
      "[ 6  8 10]\n",
      "51\n",
      "[24 27]\n"
     ]
    }
   ],
   "source": [
    "print(array4.min(axis=1))  # This will show the minimum value in row of the array\n",
    "print(array4.sum()) \n",
    "print(array4.sum(axis=0))  # This will show the sum of each column"
   ]
  },
  {
   "cell_type": "code",
   "execution_count": 33,
   "id": "e1609a33",
   "metadata": {},
   "outputs": [
    {
     "name": "stdout",
     "output_type": "stream",
     "text": [
      "8.5\n",
      "1.707825127659933\n"
     ]
    }
   ],
   "source": [
    "print(array4.mean()) # This will show the mean of the array\n",
    "print(array4.std()) # This will show the standard deviation of the array"
   ]
  },
  {
   "cell_type": "code",
   "execution_count": 34,
   "id": "e67dea1d",
   "metadata": {},
   "outputs": [
    {
     "name": "stdout",
     "output_type": "stream",
     "text": [
      "[[-0.2794155   0.6569866 ]\n",
      " [ 0.98935825  0.41211849]\n",
      " [-0.54402111 -0.99999021]]\n",
      "8.5\n"
     ]
    }
   ],
   "source": [
    "print(np.sin(array4)) # This will show the sine of each element in the array\n",
    "print(np.median(array4)) # This will show the median of the array"
   ]
  },
  {
   "cell_type": "code",
   "execution_count": 35,
   "id": "50f96ed5",
   "metadata": {},
   "outputs": [
    {
     "name": "stdout",
     "output_type": "stream",
     "text": [
      "[[  403.42879349  1096.63315843]\n",
      " [ 2980.95798704  8103.08392758]\n",
      " [22026.46579481 59874.1417152 ]]\n"
     ]
    }
   ],
   "source": [
    "print(np.exp(array4)) # This will show the exponential of each element in the array"
   ]
  },
  {
   "cell_type": "code",
   "execution_count": 36,
   "id": "4314cbd1",
   "metadata": {},
   "outputs": [
    {
     "data": {
      "text/plain": [
       "2"
      ]
     },
     "execution_count": 36,
     "metadata": {},
     "output_type": "execute_result"
    }
   ],
   "source": [
    "array3.ndim # This will show the number of dimensions of the array"
   ]
  },
  {
   "cell_type": "code",
   "execution_count": 37,
   "id": "d74faab1",
   "metadata": {},
   "outputs": [
    {
     "name": "stdout",
     "output_type": "stream",
     "text": [
      "[[0 1 2]\n",
      " [3 4 5]]\n",
      "[0 1 2 3 4 5]\n"
     ]
    }
   ],
   "source": [
    "print(array3)\n",
    "array3.ravel() # This will flatten the array to a 1D array\n",
    "print(array3.ravel())  # This will print the flattened array\n"
   ]
  },
  {
   "cell_type": "code",
   "execution_count": 38,
   "id": "f02b085b",
   "metadata": {},
   "outputs": [
    {
     "name": "stdout",
     "output_type": "stream",
     "text": [
      "[[0 3]\n",
      " [1 4]\n",
      " [2 5]]\n",
      "[[0 3]\n",
      " [1 4]\n",
      " [2 5]]\n"
     ]
    }
   ],
   "source": [
    "trasnpose_array = array3.T # This will transpose the array\n",
    "print(trasnpose_array)\n",
    "\n",
    "# or we can use the transpose method\n",
    "transpos=array3.transpose()\n",
    "print(transpos)"
   ]
  },
  {
   "cell_type": "code",
   "execution_count": 39,
   "id": "2b9218e3",
   "metadata": {},
   "outputs": [
    {
     "name": "stdout",
     "output_type": "stream",
     "text": [
      "[[ 6  7  8]\n",
      " [ 9 10 11]]\n",
      "[[ 0  1  2  6  7  8]\n",
      " [ 3  4  5  9 10 11]]\n"
     ]
    }
   ],
   "source": [
    "array5=np.arange(6,12).reshape(2,3)\n",
    "print(array5)\n",
    "stacking=np.hstack((array3,array5)) # Stacking two arrays along a new axis\n",
    "print(stacking)"
   ]
  },
  {
   "cell_type": "code",
   "execution_count": 40,
   "id": "0fff6c23",
   "metadata": {},
   "outputs": [
    {
     "data": {
      "text/plain": [
       "[array([[0],\n",
       "        [3]]),\n",
       " array([[1],\n",
       "        [4]]),\n",
       " array([[2],\n",
       "        [5]])]"
      ]
     },
     "execution_count": 40,
     "metadata": {},
     "output_type": "execute_result"
    }
   ],
   "source": [
    "np.hsplit(array3,3) # This will split the array into multiple sub-arrays along the specified axis"
   ]
  },
  {
   "cell_type": "code",
   "execution_count": 41,
   "id": "41d62c70",
   "metadata": {},
   "outputs": [
    {
     "data": {
      "text/plain": [
       "[array([[0, 1, 2]]), array([[3, 4, 5]])]"
      ]
     },
     "execution_count": 41,
     "metadata": {},
     "output_type": "execute_result"
    }
   ],
   "source": [
    "np.vsplit(array3,2) # This will split the array into multiple sub-arrays along the specified axis   "
   ]
  },
  {
   "cell_type": "code",
   "execution_count": 42,
   "id": "93cdafa9",
   "metadata": {},
   "outputs": [],
   "source": [
    "# list1=[1,2,3]\n",
    "# list2=[4,5,6]\n",
    "# print(list1+list2)"
   ]
  },
  {
   "cell_type": "code",
   "execution_count": 43,
   "id": "b2d2a03b",
   "metadata": {},
   "outputs": [],
   "source": [
    "# list_sum=[]\n",
    "# for x,y in zip(list1,list2):\n",
    "#     list_sum.append(x+y)\n",
    "# print(list_sum)"
   ]
  },
  {
   "cell_type": "code",
   "execution_count": 44,
   "id": "c6e3dd62",
   "metadata": {},
   "outputs": [
    {
     "name": "stdout",
     "output_type": "stream",
     "text": [
      "[[[1 2]\n",
      "  [3 4]]\n",
      "\n",
      " [[5 6]\n",
      "  [7 8]]]\n"
     ]
    }
   ],
   "source": [
    "arr3 = np.array([[[1, 2], [3, 4]],\n",
    "                 [[5, 6], [7, 8]]])\n",
    "print(arr3)"
   ]
  },
  {
   "cell_type": "code",
   "execution_count": 45,
   "id": "4fa8c46e",
   "metadata": {},
   "outputs": [
    {
     "name": "stdout",
     "output_type": "stream",
     "text": [
      "Original after ravel change:\n",
      " [[99  2]\n",
      " [ 3  4]]\n",
      "Original after flatten change:\n",
      " [[99  2]\n",
      " [ 3  4]]\n"
     ]
    }
   ],
   "source": [
    "arr2D = np.array([[1, 2], [3, 4]])\n",
    "\n",
    "flat_view = arr2D.ravel()\n",
    "flat_copy = arr2D.flatten()\n",
    "\n",
    "flat_view[0] = 99\n",
    "print(\"Original after ravel change:\\n\", arr2D)  # Affected (view)\n",
    "print(\"Original after flatten change:\\n\", arr2D) "
   ]
  },
  {
   "cell_type": "code",
   "execution_count": 46,
   "id": "93885e23",
   "metadata": {},
   "outputs": [
    {
     "name": "stdout",
     "output_type": "stream",
     "text": [
      "Reshaped array:\n",
      " [[99  1  2]\n",
      " [ 3  4  5]]\n",
      "Original array: [99  1  2  3  4  5]\n"
     ]
    }
   ],
   "source": [
    "arr = np.arange(6)\n",
    "reshaped = arr.reshape(2, 3)  # View\n",
    "\n",
    "reshaped[0, 0] = 99\n",
    "print(\"Reshaped array:\\n\", reshaped)\n",
    "print(\"Original array:\", arr)  # Original also changes"
   ]
  },
  {
   "cell_type": "code",
   "execution_count": 47,
   "id": "86e52864",
   "metadata": {},
   "outputs": [
    {
     "name": "stdout",
     "output_type": "stream",
     "text": [
      "Copy array:\n",
      " [[100   1   2]\n",
      " [  3   4   5]]\n",
      "Original array: [0 1 2 3 4 5]\n"
     ]
    }
   ],
   "source": [
    "arr = np.arange(6)\n",
    "reshaped_copy = arr.reshape(2, 3).copy()\n",
    "\n",
    "reshaped_copy[0, 0] = 100\n",
    "print(\"Copy array:\\n\", reshaped_copy)\n",
    "print(\"Original array:\", arr)  # Original remains unchanged"
   ]
  },
  {
   "cell_type": "code",
   "execution_count": 48,
   "id": "c0d4d313",
   "metadata": {},
   "outputs": [
    {
     "name": "stdout",
     "output_type": "stream",
     "text": [
      "[-40.         -39.19191919 -38.38383838 -37.57575758 -36.76767677\n",
      " -35.95959596 -35.15151515 -34.34343434 -33.53535354 -32.72727273\n",
      " -31.91919192 -31.11111111 -30.3030303  -29.49494949 -28.68686869\n",
      " -27.87878788 -27.07070707 -26.26262626 -25.45454545 -24.64646465\n",
      " -23.83838384 -23.03030303 -22.22222222 -21.41414141 -20.60606061\n",
      " -19.7979798  -18.98989899 -18.18181818 -17.37373737 -16.56565657\n",
      " -15.75757576 -14.94949495 -14.14141414 -13.33333333 -12.52525253\n",
      " -11.71717172 -10.90909091 -10.1010101   -9.29292929  -8.48484848\n",
      "  -7.67676768  -6.86868687  -6.06060606  -5.25252525  -4.44444444\n",
      "  -3.63636364  -2.82828283  -2.02020202  -1.21212121  -0.4040404\n",
      "   0.4040404    1.21212121   2.02020202   2.82828283   3.63636364\n",
      "   4.44444444   5.25252525   6.06060606   6.86868687   7.67676768\n",
      "   8.48484848   9.29292929  10.1010101   10.90909091  11.71717172\n",
      "  12.52525253  13.33333333  14.14141414  14.94949495  15.75757576\n",
      "  16.56565657  17.37373737  18.18181818  18.98989899  19.7979798\n",
      "  20.60606061  21.41414141  22.22222222  23.03030303  23.83838384\n",
      "  24.64646465  25.45454545  26.26262626  27.07070707  27.87878788\n",
      "  28.68686869  29.49494949  30.3030303   31.11111111  31.91919192\n",
      "  32.72727273  33.53535354  34.34343434  35.15151515  35.95959596\n",
      "  36.76767677  37.57575758  38.38383838  39.19191919  40.        ]\n"
     ]
    }
   ],
   "source": [
    "x=np.linspace(-40,40,100) # Creating a 1D numpy array with evenly spaced values from -40 to 40\n",
    "print(x)"
   ]
  },
  {
   "cell_type": "code",
   "execution_count": 49,
   "id": "a16abfb3",
   "metadata": {},
   "outputs": [
    {
     "name": "stdout",
     "output_type": "stream",
     "text": [
      "[-0.74511316 -0.9969604  -0.63246122  0.12304167  0.80247705  0.98580059\n",
      "  0.55967698 -0.21245326 -0.85323945 -0.96653119 -0.48228862  0.30011711\n",
      "  0.89698277  0.93931073  0.40093277 -0.38531209 -0.93334716 -0.90436313\n",
      " -0.31627868  0.46733734  0.96203346  0.86197589  0.22902277 -0.54551809\n",
      " -0.9828057  -0.81249769 -0.13988282  0.61921119  0.995493    0.75633557\n",
      "  0.04959214 -0.68781042 -0.99999098 -0.69395153  0.0411065   0.75075145\n",
      "  0.99626264  0.62585878 -0.13146699 -0.8075165  -0.98433866 -0.55261747\n",
      "  0.22074597  0.85763861  0.96431712  0.47483011 -0.30820902 -0.90070545\n",
      " -0.93636273 -0.39313661  0.39313661  0.93636273  0.90070545  0.30820902\n",
      " -0.47483011 -0.96431712 -0.85763861 -0.22074597  0.55261747  0.98433866\n",
      "  0.8075165   0.13146699 -0.62585878 -0.99626264 -0.75075145 -0.0411065\n",
      "  0.69395153  0.99999098  0.68781042 -0.04959214 -0.75633557 -0.995493\n",
      " -0.61921119  0.13988282  0.81249769  0.9828057   0.54551809 -0.22902277\n",
      " -0.86197589 -0.96203346 -0.46733734  0.31627868  0.90436313  0.93334716\n",
      "  0.38531209 -0.40093277 -0.93931073 -0.89698277 -0.30011711  0.48228862\n",
      "  0.96653119  0.85323945  0.21245326 -0.55967698 -0.98580059 -0.80247705\n",
      " -0.12304167  0.63246122  0.9969604   0.74511316]\n"
     ]
    }
   ],
   "source": [
    "y=np.sin(x) # Calculating the sine of each element in the array\n",
    "print(y)"
   ]
  },
  {
   "cell_type": "code",
   "execution_count": 50,
   "id": "9a81812a",
   "metadata": {},
   "outputs": [
    {
     "data": {
      "text/plain": [
       "Text(0.5, 1.0, 'Sine Function')"
      ]
     },
     "execution_count": 50,
     "metadata": {},
     "output_type": "execute_result"
    },
    {
     "data": {
      "image/png": "[encoded data removed]",
      "text/plain": [
       "<Figure size 640x480 with 1 Axes>"
      ]
     },
     "metadata": {},
     "output_type": "display_data"
    }
   ],
   "source": [
    "%matplotlib inline \n",
    "plt.plot(x,y) # Plotting the sine function\n",
    "plt.title(\"Sine Function\")  # Adding a title to the plot"
   ]
  },
  {
   "cell_type": "code",
   "execution_count": 51,
   "id": "783e8623",
   "metadata": {},
   "outputs": [
    {
     "data": {
      "text/plain": [
       "Text(0.5, 1.0, 'Quadratic Function')"
      ]
     },
     "execution_count": 51,
     "metadata": {},
     "output_type": "execute_result"
    },
    {
     "data": {
      "image/png": "[encoded data removed]",
      "text/plain": [
       "<Figure size 640x480 with 1 Axes>"
      ]
     },
     "metadata": {},
     "output_type": "display_data"
    }
   ],
   "source": [
    "y=x*x+2*x+6 \n",
    "plt.plot(x,y)  # Plotting the quadratic function\n",
    "plt.title(\"Quadratic Function\")  # Adding a title to the plot"
   ]
  },
  {
   "cell_type": "code",
   "execution_count": 54,
   "id": "e6023608",
   "metadata": {},
   "outputs": [
    {
     "name": "stdout",
     "output_type": "stream",
     "text": [
      "0.4781169623878023\n"
     ]
    }
   ],
   "source": [
    "a=np.random.random()\n",
    "print(a)  # Generating a random number between 0 and 1()"
   ]
  },
  {
   "cell_type": "code",
   "execution_count": null,
   "id": "6ee3cd97",
   "metadata": {},
   "outputs": [
    {
     "name": "stdout",
     "output_type": "stream",
     "text": [
      "None\n",
      "0.417022004702574\n"
     ]
    }
   ],
   "source": [
    "b=np.random.seed(1) # Setting the seed for random number generation\n",
    "print(b)\n",
    "b=np.random.random() #here we generate a random number same every time\n",
    "print(b)  "
   ]
  },
  {
   "cell_type": "code",
   "execution_count": 88,
   "id": "5b32417d",
   "metadata": {},
   "outputs": [
    {
     "name": "stdout",
     "output_type": "stream",
     "text": [
      "[9.03599838 6.20071494 2.65609181 8.0913631  6.50828059 1.48518345\n",
      " 4.78174312 7.11161953 9.267416   1.00361822]\n"
     ]
    }
   ],
   "source": [
    "c=np.random.uniform(1,10,10) # Generating 10 random numbers between 1 and 10\n",
    "print(c)"
   ]
  },
  {
   "cell_type": "code",
   "execution_count": 91,
   "id": "2eff954b",
   "metadata": {},
   "outputs": [
    {
     "name": "stdout",
     "output_type": "stream",
     "text": [
      "[[4 9 8 1 6]\n",
      " [3 3 9 6 1]\n",
      " [6 9 7 7 1]]\n"
     ]
    }
   ],
   "source": [
    "d=np.random.randint(1,10,15).reshape(3,5) # Generating a 2D array with random integers between 1 and 10()\n",
    "print(d)"
   ]
  },
  {
   "cell_type": "code",
   "execution_count": null,
   "id": "2852b188",
   "metadata": {},
   "outputs": [
    {
     "name": "stdout",
     "output_type": "stream",
     "text": [
      "[ 5  8 12  4 12  1 12]\n"
     ]
    }
   ],
   "source": [
    "d=np.random.randint(1,15,7) # Generating a 1D array with random integers between 1 and 15\n",
    "print(d)"
   ]
  },
  {
   "cell_type": "code",
   "execution_count": null,
   "id": "cac03382",
   "metadata": {},
   "outputs": [
    {
     "name": "stdout",
     "output_type": "stream",
     "text": [
      "2\n",
      "12\n"
     ]
    }
   ],
   "source": [
    "max_index=np.argmax(d) # Finding the index of the maximum value in the array\n",
    "print(max_index)\n",
    "print(np.max(d)) # Finding the maximum value in the array"
   ]
  },
  {
   "cell_type": "code",
   "execution_count": 95,
   "id": "c906bd5b",
   "metadata": {},
   "outputs": [
    {
     "name": "stdout",
     "output_type": "stream",
     "text": [
      "1\n",
      "5\n"
     ]
    }
   ],
   "source": [
    "min_index=np.argmin(d)  # Finding the index of the minimum value in the array\n",
    "print(np.min(d))  # Finding the minimum value in the array\n",
    "print(min_index)"
   ]
  },
  {
   "cell_type": "code",
   "execution_count": null,
   "id": "3f093c24",
   "metadata": {},
   "outputs": [],
   "source": []
  }
 ],
 "metadata": {
  "kernelspec": {
   "display_name": "py312",
   "language": "python",
   "name": "python3"
  },
  "language_info": {
   "codemirror_mode": {
    "name": "ipython",
    "version": 3
   },
   "file_extension": ".py",
   "mimetype": "text/x-python",
   "name": "python",
   "nbconvert_exporter": "python",
   "pygments_lexer": "ipython3",
   "version": "3.13.5"
  }
 },
 "nbformat": 4,
 "nbformat_minor": 5
}
